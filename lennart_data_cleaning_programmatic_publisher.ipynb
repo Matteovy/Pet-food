{
 "cells": [
  {
   "cell_type": "code",
   "execution_count": null,
   "metadata": {},
   "outputs": [],
   "source": [
    "import pandas as pd\n",
    "import numpy as np\n",
    "import matplotlib.pyplot as plt\n",
    "\n",
    "from sklearn.model_selection import train_test_split\n",
    "from sklearn.model_selection import GridSearchCV\n",
    "from sklearn.preprocessing import OneHotEncoder\n",
    "from sklearn.preprocessing import MinMaxScaler\n",
    "from sklearn.compose import ColumnTransformer\n",
    "from sklearn.pipeline import Pipeline\n",
    "from sklearn.impute import SimpleImputer\n",
    "from sklearn.metrics import confusion_matrix, ConfusionMatrixDisplay, f1_score, make_scorer\n",
    "from sklearn.preprocessing import MaxAbsScaler\n",
    "\n",
    "from sklearn.svm import SVC\n",
    "from sklearn.ensemble import RandomForestClassifier\n",
    "from sklearn.ensemble import GradientBoostingClassifier\n",
    "from sklearn.linear_model import LogisticRegression\n",
    "from sklearn.feature_selection import SelectKBest, f_classif\n",
    "\n",
    "from sklearn.metrics import classification_report, accuracy_score, precision_score, recall_score, f1_score\n",
    "\n",
    "from imblearn.over_sampling import *\n",
    "from imblearn.under_sampling import RandomUnderSampler\n",
    "from imblearn.pipeline import Pipeline\n",
    "\n",
    "import cartopy.crs as ccrs\n",
    "import cartopy.feature as cfeature"
   ]
  },
  {
   "cell_type": "code",
   "execution_count": 6,
   "metadata": {},
   "outputs": [
    {
     "data": {
      "text/html": [
       "<div>\n",
       "<style scoped>\n",
       "    .dataframe tbody tr th:only-of-type {\n",
       "        vertical-align: middle;\n",
       "    }\n",
       "\n",
       "    .dataframe tbody tr th {\n",
       "        vertical-align: top;\n",
       "    }\n",
       "\n",
       "    .dataframe thead th {\n",
       "        text-align: right;\n",
       "    }\n",
       "</style>\n",
       "<table border=\"1\" class=\"dataframe\">\n",
       "  <thead>\n",
       "    <tr style=\"text-align: right;\">\n",
       "      <th></th>\n",
       "      <th>dsp_id</th>\n",
       "      <th>timestamp_utc</th>\n",
       "      <th>campaign_name</th>\n",
       "      <th>device_type</th>\n",
       "      <th>cost_milli_cent</th>\n",
       "    </tr>\n",
       "  </thead>\n",
       "  <tbody>\n",
       "    <tr>\n",
       "      <th>0</th>\n",
       "      <td>dsp9tnGII5BeXbn6LUSFZPcKGCyI0F</td>\n",
       "      <td>2024-02-06 04:10:41</td>\n",
       "      <td>Contextual</td>\n",
       "      <td>Phone</td>\n",
       "      <td>283.496</td>\n",
       "    </tr>\n",
       "    <tr>\n",
       "      <th>1</th>\n",
       "      <td>dsp1hXcI9Q6TZYzLEmeTkxzhjqD6HJ</td>\n",
       "      <td>2024-02-26 23:49:23</td>\n",
       "      <td>Retargeting</td>\n",
       "      <td>PC</td>\n",
       "      <td>1884.537</td>\n",
       "    </tr>\n",
       "    <tr>\n",
       "      <th>2</th>\n",
       "      <td>dspcd3UcXUcUk0PEo2hb8CEH3WVlFE</td>\n",
       "      <td>2024-06-16 20:55:27</td>\n",
       "      <td>Contextual</td>\n",
       "      <td>TV</td>\n",
       "      <td>601.930</td>\n",
       "    </tr>\n",
       "    <tr>\n",
       "      <th>3</th>\n",
       "      <td>dspSnORtuQRLSkZKp9nbSIpbJBQLP1</td>\n",
       "      <td>2024-06-26 19:15:54</td>\n",
       "      <td>Contextual</td>\n",
       "      <td>TV</td>\n",
       "      <td>1191.750</td>\n",
       "    </tr>\n",
       "    <tr>\n",
       "      <th>4</th>\n",
       "      <td>dspSnORtuQRLSkZKp9nbSIpbJBQLP1</td>\n",
       "      <td>2024-05-31 18:38:54</td>\n",
       "      <td>Retargeting</td>\n",
       "      <td>TV</td>\n",
       "      <td>739.262</td>\n",
       "    </tr>\n",
       "    <tr>\n",
       "      <th>5</th>\n",
       "      <td>dspSnORtuQRLSkZKp9nbSIpbJBQLP1</td>\n",
       "      <td>2024-06-05 22:50:03</td>\n",
       "      <td>Retargeting</td>\n",
       "      <td>PC</td>\n",
       "      <td>153.500</td>\n",
       "    </tr>\n",
       "    <tr>\n",
       "      <th>6</th>\n",
       "      <td>dspfp8NFN8MfPTM5zvmeSJYqX9NzSW</td>\n",
       "      <td>2024-05-09 21:06:22</td>\n",
       "      <td>Contextual</td>\n",
       "      <td>TV</td>\n",
       "      <td>5878.010</td>\n",
       "    </tr>\n",
       "    <tr>\n",
       "      <th>7</th>\n",
       "      <td>dspfp8NFN8MfPTM5zvmeSJYqX9NzSW</td>\n",
       "      <td>2024-05-15 21:41:44</td>\n",
       "      <td>Contextual</td>\n",
       "      <td>TV</td>\n",
       "      <td>3073.631</td>\n",
       "    </tr>\n",
       "    <tr>\n",
       "      <th>8</th>\n",
       "      <td>dspfp8NFN8MfPTM5zvmeSJYqX9NzSW</td>\n",
       "      <td>2024-05-16 20:47:06</td>\n",
       "      <td>Contextual</td>\n",
       "      <td>TV</td>\n",
       "      <td>3161.905</td>\n",
       "    </tr>\n",
       "    <tr>\n",
       "      <th>9</th>\n",
       "      <td>dspfp8NFN8MfPTM5zvmeSJYqX9NzSW</td>\n",
       "      <td>2024-05-16 21:56:50</td>\n",
       "      <td>Contextual</td>\n",
       "      <td>TV</td>\n",
       "      <td>2582.035</td>\n",
       "    </tr>\n",
       "  </tbody>\n",
       "</table>\n",
       "</div>"
      ],
      "text/plain": [
       "                           dsp_id        timestamp_utc campaign_name  \\\n",
       "0  dsp9tnGII5BeXbn6LUSFZPcKGCyI0F  2024-02-06 04:10:41    Contextual   \n",
       "1  dsp1hXcI9Q6TZYzLEmeTkxzhjqD6HJ  2024-02-26 23:49:23   Retargeting   \n",
       "2  dspcd3UcXUcUk0PEo2hb8CEH3WVlFE  2024-06-16 20:55:27    Contextual   \n",
       "3  dspSnORtuQRLSkZKp9nbSIpbJBQLP1  2024-06-26 19:15:54    Contextual   \n",
       "4  dspSnORtuQRLSkZKp9nbSIpbJBQLP1  2024-05-31 18:38:54   Retargeting   \n",
       "5  dspSnORtuQRLSkZKp9nbSIpbJBQLP1  2024-06-05 22:50:03   Retargeting   \n",
       "6  dspfp8NFN8MfPTM5zvmeSJYqX9NzSW  2024-05-09 21:06:22    Contextual   \n",
       "7  dspfp8NFN8MfPTM5zvmeSJYqX9NzSW  2024-05-15 21:41:44    Contextual   \n",
       "8  dspfp8NFN8MfPTM5zvmeSJYqX9NzSW  2024-05-16 20:47:06    Contextual   \n",
       "9  dspfp8NFN8MfPTM5zvmeSJYqX9NzSW  2024-05-16 21:56:50    Contextual   \n",
       "\n",
       "  device_type  cost_milli_cent  \n",
       "0       Phone          283.496  \n",
       "1          PC         1884.537  \n",
       "2          TV          601.930  \n",
       "3          TV         1191.750  \n",
       "4          TV          739.262  \n",
       "5          PC          153.500  \n",
       "6          TV         5878.010  \n",
       "7          TV         3073.631  \n",
       "8          TV         3161.905  \n",
       "9          TV         2582.035  "
      ]
     },
     "metadata": {},
     "output_type": "display_data"
    }
   ],
   "source": [
    "# Load the CSV file into a DataFrame\n",
    "file_path = 'programmatic_publisher.csv'  # Update with your file's correct path\n",
    "df_programmatic_publisher = pd.read_csv(file_path)\n",
    "\n",
    "# Display the first few rows of the DataFrame to verify\n",
    "display(df_programmatic_publisher.head(10))"
   ]
  },
  {
   "cell_type": "code",
   "execution_count": 7,
   "metadata": {},
   "outputs": [
    {
     "name": "stdout",
     "output_type": "stream",
     "text": [
      "17493428\n"
     ]
    }
   ],
   "source": [
    "print(len(df_programmatic_publisher))"
   ]
  },
  {
   "cell_type": "markdown",
   "metadata": {},
   "source": [
    "# Data Cleaning"
   ]
  },
  {
   "cell_type": "markdown",
   "metadata": {},
   "source": [
    "## Missing Values"
   ]
  },
  {
   "cell_type": "markdown",
   "metadata": {},
   "source": [
    "### Data Types"
   ]
  },
  {
   "cell_type": "markdown",
   "metadata": {},
   "source": [
    "### Numeric"
   ]
  },
  {
   "cell_type": "markdown",
   "metadata": {},
   "source": [
    "### Category"
   ]
  },
  {
   "cell_type": "markdown",
   "metadata": {},
   "source": [
    "### Timestamps"
   ]
  }
 ],
 "metadata": {
  "kernelspec": {
   "display_name": "base",
   "language": "python",
   "name": "python3"
  },
  "language_info": {
   "codemirror_mode": {
    "name": "ipython",
    "version": 3
   },
   "file_extension": ".py",
   "mimetype": "text/x-python",
   "name": "python",
   "nbconvert_exporter": "python",
   "pygments_lexer": "ipython3",
   "version": "3.11.7"
  }
 },
 "nbformat": 4,
 "nbformat_minor": 2
}
