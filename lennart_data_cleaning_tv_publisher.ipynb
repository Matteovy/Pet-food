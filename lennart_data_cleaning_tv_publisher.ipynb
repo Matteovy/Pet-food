{
 "cells": [
  {
   "cell_type": "code",
   "execution_count": null,
   "metadata": {},
   "outputs": [],
   "source": [
    "import pandas as pd\n",
    "import numpy as np\n",
    "import matplotlib.pyplot as plt\n",
    "\n",
    "from sklearn.model_selection import train_test_split\n",
    "from sklearn.model_selection import GridSearchCV\n",
    "from sklearn.preprocessing import OneHotEncoder\n",
    "from sklearn.preprocessing import MinMaxScaler\n",
    "from sklearn.compose import ColumnTransformer\n",
    "from sklearn.pipeline import Pipeline\n",
    "from sklearn.impute import SimpleImputer\n",
    "from sklearn.metrics import confusion_matrix, ConfusionMatrixDisplay, f1_score, make_scorer\n",
    "from sklearn.preprocessing import MaxAbsScaler\n",
    "\n",
    "from sklearn.svm import SVC\n",
    "from sklearn.ensemble import RandomForestClassifier\n",
    "from sklearn.ensemble import GradientBoostingClassifier\n",
    "from sklearn.linear_model import LogisticRegression\n",
    "from sklearn.feature_selection import SelectKBest, f_classif\n",
    "\n",
    "from sklearn.metrics import classification_report, accuracy_score, precision_score, recall_score, f1_score\n",
    "\n",
    "from imblearn.over_sampling import *\n",
    "from imblearn.under_sampling import RandomUnderSampler\n",
    "from imblearn.pipeline import Pipeline\n",
    "\n",
    "import cartopy.crs as ccrs\n",
    "import cartopy.feature as cfeature"
   ]
  },
  {
   "cell_type": "code",
   "execution_count": 5,
   "metadata": {},
   "outputs": [
    {
     "data": {
      "text/html": [
       "<div>\n",
       "<style scoped>\n",
       "    .dataframe tbody tr th:only-of-type {\n",
       "        vertical-align: middle;\n",
       "    }\n",
       "\n",
       "    .dataframe tbody tr th {\n",
       "        vertical-align: top;\n",
       "    }\n",
       "\n",
       "    .dataframe thead th {\n",
       "        text-align: right;\n",
       "    }\n",
       "</style>\n",
       "<table border=\"1\" class=\"dataframe\">\n",
       "  <thead>\n",
       "    <tr style=\"text-align: right;\">\n",
       "      <th></th>\n",
       "      <th>device_id</th>\n",
       "      <th>timestamp_utc</th>\n",
       "      <th>cost_milli_cent</th>\n",
       "    </tr>\n",
       "  </thead>\n",
       "  <tbody>\n",
       "    <tr>\n",
       "      <th>0</th>\n",
       "      <td>ctv81YlbBXho</td>\n",
       "      <td>2024-04-23 21:09:46</td>\n",
       "      <td>2325.51</td>\n",
       "    </tr>\n",
       "    <tr>\n",
       "      <th>1</th>\n",
       "      <td>ctvWr7bOO5Je</td>\n",
       "      <td>2024-04-19 18:31:30</td>\n",
       "      <td>2325.51</td>\n",
       "    </tr>\n",
       "    <tr>\n",
       "      <th>2</th>\n",
       "      <td>ctvktBqDUgcV</td>\n",
       "      <td>2024-05-07 23:32:37</td>\n",
       "      <td>2325.51</td>\n",
       "    </tr>\n",
       "    <tr>\n",
       "      <th>3</th>\n",
       "      <td>ctv4bFFpBJms</td>\n",
       "      <td>2024-06-28 00:10:10</td>\n",
       "      <td>2325.51</td>\n",
       "    </tr>\n",
       "    <tr>\n",
       "      <th>4</th>\n",
       "      <td>ctvFZB9pUMZ7</td>\n",
       "      <td>2024-05-24 03:45:45</td>\n",
       "      <td>2325.51</td>\n",
       "    </tr>\n",
       "    <tr>\n",
       "      <th>5</th>\n",
       "      <td>ctvFZB9pUMZ7</td>\n",
       "      <td>2024-06-01 15:01:27</td>\n",
       "      <td>2325.51</td>\n",
       "    </tr>\n",
       "    <tr>\n",
       "      <th>6</th>\n",
       "      <td>ctvFZB9pUMZ7</td>\n",
       "      <td>2024-06-01 15:43:41</td>\n",
       "      <td>2325.51</td>\n",
       "    </tr>\n",
       "    <tr>\n",
       "      <th>7</th>\n",
       "      <td>ctvmXq002HtT</td>\n",
       "      <td>2024-04-07 04:15:16</td>\n",
       "      <td>2325.51</td>\n",
       "    </tr>\n",
       "    <tr>\n",
       "      <th>8</th>\n",
       "      <td>ctvmXq002HtT</td>\n",
       "      <td>2024-06-29 04:31:54</td>\n",
       "      <td>2325.51</td>\n",
       "    </tr>\n",
       "    <tr>\n",
       "      <th>9</th>\n",
       "      <td>ctvZnkmr9EOU</td>\n",
       "      <td>2024-03-08 11:36:12</td>\n",
       "      <td>2325.51</td>\n",
       "    </tr>\n",
       "  </tbody>\n",
       "</table>\n",
       "</div>"
      ],
      "text/plain": [
       "      device_id        timestamp_utc  cost_milli_cent\n",
       "0  ctv81YlbBXho  2024-04-23 21:09:46          2325.51\n",
       "1  ctvWr7bOO5Je  2024-04-19 18:31:30          2325.51\n",
       "2  ctvktBqDUgcV  2024-05-07 23:32:37          2325.51\n",
       "3  ctv4bFFpBJms  2024-06-28 00:10:10          2325.51\n",
       "4  ctvFZB9pUMZ7  2024-05-24 03:45:45          2325.51\n",
       "5  ctvFZB9pUMZ7  2024-06-01 15:01:27          2325.51\n",
       "6  ctvFZB9pUMZ7  2024-06-01 15:43:41          2325.51\n",
       "7  ctvmXq002HtT  2024-04-07 04:15:16          2325.51\n",
       "8  ctvmXq002HtT  2024-06-29 04:31:54          2325.51\n",
       "9  ctvZnkmr9EOU  2024-03-08 11:36:12          2325.51"
      ]
     },
     "metadata": {},
     "output_type": "display_data"
    }
   ],
   "source": [
    "# Define file path to dataset\n",
    "file_path = 'tv_publisher.csv'\n",
    "\n",
    "# Define dataframe\n",
    "df_tv_publisher = pd.read_csv(file_path)\n",
    "\n",
    "display(df_tv_publisher.head(10))"
   ]
  },
  {
   "cell_type": "code",
   "execution_count": 4,
   "metadata": {},
   "outputs": [
    {
     "name": "stdout",
     "output_type": "stream",
     "text": [
      "5827133\n"
     ]
    }
   ],
   "source": [
    "print(len(df_tv_publisher))"
   ]
  },
  {
   "cell_type": "markdown",
   "metadata": {},
   "source": [
    "# Missing Values"
   ]
  },
  {
   "cell_type": "markdown",
   "metadata": {},
   "source": [
    "# Data Types"
   ]
  },
  {
   "cell_type": "markdown",
   "metadata": {},
   "source": [
    "## Numeric"
   ]
  },
  {
   "cell_type": "markdown",
   "metadata": {},
   "source": [
    "### Category"
   ]
  },
  {
   "cell_type": "markdown",
   "metadata": {},
   "source": [
    "### Timestamps"
   ]
  }
 ],
 "metadata": {
  "kernelspec": {
   "display_name": "base",
   "language": "python",
   "name": "python3"
  },
  "language_info": {
   "codemirror_mode": {
    "name": "ipython",
    "version": 3
   },
   "file_extension": ".py",
   "mimetype": "text/x-python",
   "name": "python",
   "nbconvert_exporter": "python",
   "pygments_lexer": "ipython3",
   "version": "3.11.7"
  }
 },
 "nbformat": 4,
 "nbformat_minor": 2
}
