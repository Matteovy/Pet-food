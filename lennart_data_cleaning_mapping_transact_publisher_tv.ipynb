{
 "cells": [
  {
   "cell_type": "markdown",
   "metadata": {},
   "source": [
    "# Setup and Analysis"
   ]
  },
  {
   "cell_type": "code",
   "execution_count": 2,
   "metadata": {},
   "outputs": [],
   "source": [
    "import pandas as pd\n",
    "import numpy as np\n",
    "import matplotlib.pyplot as plt\n",
    "\n",
    "from sklearn.model_selection import train_test_split\n",
    "from sklearn.model_selection import GridSearchCV\n",
    "from sklearn.preprocessing import OneHotEncoder\n",
    "from sklearn.preprocessing import MinMaxScaler\n",
    "from sklearn.compose import ColumnTransformer\n",
    "from sklearn.pipeline import Pipeline\n",
    "from sklearn.impute import SimpleImputer\n",
    "from sklearn.metrics import confusion_matrix, ConfusionMatrixDisplay, f1_score, make_scorer\n",
    "from sklearn.preprocessing import MaxAbsScaler\n",
    "\n",
    "from sklearn.svm import SVC\n",
    "from sklearn.ensemble import RandomForestClassifier\n",
    "from sklearn.ensemble import GradientBoostingClassifier\n",
    "from sklearn.linear_model import LogisticRegression\n",
    "from sklearn.feature_selection import SelectKBest, f_classif\n",
    "\n",
    "from sklearn.metrics import classification_report, accuracy_score, precision_score, recall_score, f1_score\n",
    "\n",
    "from imblearn.over_sampling import *\n",
    "from imblearn.under_sampling import RandomUnderSampler\n",
    "from imblearn.pipeline import Pipeline\n",
    "\n",
    "import cartopy.crs as ccrs\n",
    "import cartopy.feature as cfeature"
   ]
  },
  {
   "cell_type": "code",
   "execution_count": 3,
   "metadata": {},
   "outputs": [
    {
     "data": {
      "text/html": [
       "<div>\n",
       "<style scoped>\n",
       "    .dataframe tbody tr th:only-of-type {\n",
       "        vertical-align: middle;\n",
       "    }\n",
       "\n",
       "    .dataframe tbody tr th {\n",
       "        vertical-align: top;\n",
       "    }\n",
       "\n",
       "    .dataframe thead th {\n",
       "        text-align: right;\n",
       "    }\n",
       "</style>\n",
       "<table border=\"1\" class=\"dataframe\">\n",
       "  <thead>\n",
       "    <tr style=\"text-align: right;\">\n",
       "      <th></th>\n",
       "      <th>customer_id</th>\n",
       "      <th>dsp_id</th>\n",
       "      <th>device_id</th>\n",
       "    </tr>\n",
       "  </thead>\n",
       "  <tbody>\n",
       "    <tr>\n",
       "      <th>0</th>\n",
       "      <td>reFs5GI87lXJkJSi9r</td>\n",
       "      <td>dsp9tnGII5BeXbn6LUSFZPcKGCyI0F</td>\n",
       "      <td>ctv81YlbBXho</td>\n",
       "    </tr>\n",
       "    <tr>\n",
       "      <th>1</th>\n",
       "      <td>reTjziox2cSrxVq70Y</td>\n",
       "      <td>dspCSu1n1mhys37Na5OXMaKaE8P8CS</td>\n",
       "      <td>ctvHmkxqZXBg</td>\n",
       "    </tr>\n",
       "    <tr>\n",
       "      <th>2</th>\n",
       "      <td>reOrpt9vhSwhbPVtni</td>\n",
       "      <td>dsp1hXcI9Q6TZYzLEmeTkxzhjqD6HJ</td>\n",
       "      <td>ctvwp5n34myx</td>\n",
       "    </tr>\n",
       "    <tr>\n",
       "      <th>3</th>\n",
       "      <td>reutQ3jiBX9Li4Ggqi</td>\n",
       "      <td>dspcd3UcXUcUk0PEo2hb8CEH3WVlFE</td>\n",
       "      <td>ctvdkYC70D2x</td>\n",
       "    </tr>\n",
       "    <tr>\n",
       "      <th>4</th>\n",
       "      <td>reH7UgH29AreRh8wWy</td>\n",
       "      <td>dspSnORtuQRLSkZKp9nbSIpbJBQLP1</td>\n",
       "      <td>ctvTgbqnhRd8</td>\n",
       "    </tr>\n",
       "    <tr>\n",
       "      <th>5</th>\n",
       "      <td>reHAnmLXgIZqJT0i64</td>\n",
       "      <td>dspfp8NFN8MfPTM5zvmeSJYqX9NzSW</td>\n",
       "      <td>ctvWjRSFfqf9</td>\n",
       "    </tr>\n",
       "    <tr>\n",
       "      <th>6</th>\n",
       "      <td>unknown</td>\n",
       "      <td>dspGjtT1HFP93mdV0azFnq3d9RWimz</td>\n",
       "      <td>NaN</td>\n",
       "    </tr>\n",
       "    <tr>\n",
       "      <th>7</th>\n",
       "      <td>reIYreUnTRc6yFflWy</td>\n",
       "      <td>dsp5g1hhUvLR4MjLQuI0UTQXbmQx4R</td>\n",
       "      <td>ctv5yal7dewi</td>\n",
       "    </tr>\n",
       "    <tr>\n",
       "      <th>8</th>\n",
       "      <td>reDzpCoOpWJc5l9K3y</td>\n",
       "      <td>unknown</td>\n",
       "      <td>ctv9sCxrEjFD</td>\n",
       "    </tr>\n",
       "    <tr>\n",
       "      <th>9</th>\n",
       "      <td>reEW1KfvG7XlTbXwa6</td>\n",
       "      <td>dsp209Hn140h3HQO3sDplynIC1HfS4</td>\n",
       "      <td>ctvywJV5bzru</td>\n",
       "    </tr>\n",
       "  </tbody>\n",
       "</table>\n",
       "</div>"
      ],
      "text/plain": [
       "          customer_id                          dsp_id     device_id\n",
       "0  reFs5GI87lXJkJSi9r  dsp9tnGII5BeXbn6LUSFZPcKGCyI0F  ctv81YlbBXho\n",
       "1  reTjziox2cSrxVq70Y  dspCSu1n1mhys37Na5OXMaKaE8P8CS  ctvHmkxqZXBg\n",
       "2  reOrpt9vhSwhbPVtni  dsp1hXcI9Q6TZYzLEmeTkxzhjqD6HJ  ctvwp5n34myx\n",
       "3  reutQ3jiBX9Li4Ggqi  dspcd3UcXUcUk0PEo2hb8CEH3WVlFE  ctvdkYC70D2x\n",
       "4  reH7UgH29AreRh8wWy  dspSnORtuQRLSkZKp9nbSIpbJBQLP1  ctvTgbqnhRd8\n",
       "5  reHAnmLXgIZqJT0i64  dspfp8NFN8MfPTM5zvmeSJYqX9NzSW  ctvWjRSFfqf9\n",
       "6             unknown  dspGjtT1HFP93mdV0azFnq3d9RWimz           NaN\n",
       "7  reIYreUnTRc6yFflWy  dsp5g1hhUvLR4MjLQuI0UTQXbmQx4R  ctv5yal7dewi\n",
       "8  reDzpCoOpWJc5l9K3y                         unknown  ctv9sCxrEjFD\n",
       "9  reEW1KfvG7XlTbXwa6  dsp209Hn140h3HQO3sDplynIC1HfS4  ctvywJV5bzru"
      ]
     },
     "metadata": {},
     "output_type": "display_data"
    }
   ],
   "source": [
    "# Load the CSV file into a DataFrame\n",
    "file_path = 'mapping_transac_publisher_tv.csv'  # Update with your file's correct path\n",
    "df_mapping_transact_publisher = pd.read_csv(file_path)\n",
    "\n",
    "# Display the first few rows of the DataFrame to verify\n",
    "display(df_mapping_transact_publisher.head(10))"
   ]
  },
  {
   "cell_type": "code",
   "execution_count": 4,
   "metadata": {},
   "outputs": [
    {
     "name": "stdout",
     "output_type": "stream",
     "text": [
      "7984411\n"
     ]
    }
   ],
   "source": [
    "print(len(df_mapping_transact_publisher))"
   ]
  },
  {
   "cell_type": "markdown",
   "metadata": {},
   "source": [
    "# Data Cleaning"
   ]
  },
  {
   "cell_type": "markdown",
   "metadata": {},
   "source": [
    "## Missing Values"
   ]
  },
  {
   "cell_type": "markdown",
   "metadata": {},
   "source": [
    "## Data Types"
   ]
  },
  {
   "cell_type": "markdown",
   "metadata": {},
   "source": [
    "### Numeric"
   ]
  },
  {
   "cell_type": "markdown",
   "metadata": {},
   "source": [
    "### Category"
   ]
  },
  {
   "cell_type": "markdown",
   "metadata": {},
   "source": [
    "### Timestamps"
   ]
  }
 ],
 "metadata": {
  "kernelspec": {
   "display_name": "base",
   "language": "python",
   "name": "python3"
  },
  "language_info": {
   "codemirror_mode": {
    "name": "ipython",
    "version": 3
   },
   "file_extension": ".py",
   "mimetype": "text/x-python",
   "name": "python",
   "nbconvert_exporter": "python",
   "pygments_lexer": "ipython3",
   "version": "3.11.7"
  }
 },
 "nbformat": 4,
 "nbformat_minor": 2
}
